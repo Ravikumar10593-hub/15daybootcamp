{
  "nbformat": 4,
  "nbformat_minor": 0,
  "metadata": {
    "colab": {
      "name": "Day1-ML",
      "provenance": [],
      "collapsed_sections": [],
      "authorship_tag": "ABX9TyNs1775x/O0iutxp5KPkk7D",
      "include_colab_link": true
    },
    "kernelspec": {
      "name": "python3",
      "display_name": "Python 3"
    },
    "language_info": {
      "name": "python"
    }
  },
  "cells": [
    {
      "cell_type": "markdown",
      "metadata": {
        "id": "view-in-github",
        "colab_type": "text"
      },
      "source": [
        "<a href=\"https://colab.research.google.com/github/Ravikumar10593-hub/15daybootcamp-day-1/blob/main/Day1_ML.ipynb\" target=\"_parent\"><img src=\"https://colab.research.google.com/assets/colab-badge.svg\" alt=\"Open In Colab\"/></a>"
      ]
    },
    {
      "cell_type": "markdown",
      "metadata": {
        "id": "ucVgTuI0Np5N"
      },
      "source": [
        "#Numpy"
      ]
    },
    {
      "cell_type": "code",
      "metadata": {
        "id": "vFU-xyoYJx6I"
      },
      "source": [
        "import numpy as np\n"
      ],
      "execution_count": 1,
      "outputs": []
    },
    {
      "cell_type": "code",
      "metadata": {
        "colab": {
          "base_uri": "https://localhost:8080/"
        },
        "id": "vJk8VaLrNx04",
        "outputId": "acfa1fb5-428a-4b49-cbb8-a031ce2ff097"
      },
      "source": [
        "a=[1,2,3,4]\n",
        "arr1=np.array(a)\n",
        "print(a)\n",
        "print(type(arr1))"
      ],
      "execution_count": 2,
      "outputs": [
        {
          "output_type": "stream",
          "text": [
            "[1, 2, 3, 4]\n",
            "<class 'numpy.ndarray'>\n"
          ],
          "name": "stdout"
        }
      ]
    },
    {
      "cell_type": "markdown",
      "metadata": {
        "id": "0rzn5PiZTOae"
      },
      "source": [
        "**Showing why numpy is better than list**"
      ]
    },
    {
      "cell_type": "code",
      "metadata": {
        "colab": {
          "base_uri": "https://localhost:8080/"
        },
        "id": "6tIJ4A7IN8KQ",
        "outputId": "32d8744b-9c68-4fbb-dac0-5d514fa1aab5"
      },
      "source": [
        "import sys\n",
        "s=range(1000)\n",
        "print(\"size of each byte\",sys.getsizeof(s))\n",
        "print(\"size of full list\",sys.getsizeof(s)*len(s))"
      ],
      "execution_count": 5,
      "outputs": [
        {
          "output_type": "stream",
          "text": [
            "size of each byte 48\n",
            "size of full list 48000\n"
          ],
          "name": "stdout"
        }
      ]
    },
    {
      "cell_type": "code",
      "metadata": {
        "colab": {
          "base_uri": "https://localhost:8080/"
        },
        "id": "9Mvap98LOtPz",
        "outputId": "3cb7d89d-d24b-4ab6-931d-a9513586c942"
      },
      "source": [
        "#doing same thing in numpy\n",
        "import numpy as np\n",
        "x=np.arange(1000)\n",
        "print(\"Size of each element\",x.itemsize)\n",
        "print(\"Size of whole list\",x.size * x.itemsize)\n"
      ],
      "execution_count": 15,
      "outputs": [
        {
          "output_type": "stream",
          "text": [
            "Size of each element 8\n",
            "Size of whole list 8000\n"
          ],
          "name": "stdout"
        }
      ]
    },
    {
      "cell_type": "code",
      "metadata": {
        "colab": {
          "base_uri": "https://localhost:8080/"
        },
        "id": "TRgdzOI8Pcdp",
        "outputId": "1dca9e31-91a0-47c7-f3c4-cd0115651597"
      },
      "source": [
        "import time\n",
        "a=range(1000)\n",
        "b=range(1000)\n",
        "start= time.time()\n",
        "#string comprehension\n",
        "ab=[a*b for a,b in zip(a,b)]\n",
        "end=time.time()\n",
        "print(\"total time: \",end-start)"
      ],
      "execution_count": 18,
      "outputs": [
        {
          "output_type": "stream",
          "text": [
            "total time:  0.0001583099365234375\n"
          ],
          "name": "stdout"
        }
      ]
    },
    {
      "cell_type": "code",
      "metadata": {
        "colab": {
          "base_uri": "https://localhost:8080/"
        },
        "id": "7o_R9sEgRCQ1",
        "outputId": "174a6dd0-5027-4853-a84c-c814c093b5d9"
      },
      "source": [
        "import time\n",
        "import numpy as np\n",
        "arr1=np.arange(1000)\n",
        "arr2=np.arange(1000)\n",
        "start= time.time()\n",
        "m=arr1 *arr2\n",
        "end=time.time()\n",
        "print(\"total time: \",end-start)"
      ],
      "execution_count": 19,
      "outputs": [
        {
          "output_type": "stream",
          "text": [
            "total time:  7.581710815429688e-05\n"
          ],
          "name": "stdout"
        }
      ]
    },
    {
      "cell_type": "code",
      "metadata": {
        "id": "aouOsKbqTBNb"
      },
      "source": [
        ""
      ],
      "execution_count": null,
      "outputs": []
    }
  ]
}