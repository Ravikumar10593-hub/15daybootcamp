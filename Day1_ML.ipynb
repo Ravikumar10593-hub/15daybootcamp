{
  "nbformat": 4,
  "nbformat_minor": 0,
  "metadata": {
    "colab": {
      "name": "Day1-ML",
      "provenance": [],
      "collapsed_sections": [],
      "authorship_tag": "ABX9TyNLiyJfEmfoZRjZUHz2MOcD",
      "include_colab_link": true
    },
    "kernelspec": {
      "name": "python3",
      "display_name": "Python 3"
    },
    "language_info": {
      "name": "python"
    }
  },
  "cells": [
    {
      "cell_type": "markdown",
      "metadata": {
        "id": "view-in-github",
        "colab_type": "text"
      },
      "source": [
        "<a href=\"https://colab.research.google.com/github/Ravikumar10593-hub/15daybootcamp-day-1/blob/main/Day1_ML.ipynb\" target=\"_parent\"><img src=\"https://colab.research.google.com/assets/colab-badge.svg\" alt=\"Open In Colab\"/></a>"
      ]
    },
    {
      "cell_type": "markdown",
      "metadata": {
        "id": "ucVgTuI0Np5N"
      },
      "source": [
        "#Numpy"
      ]
    },
    {
      "cell_type": "code",
      "metadata": {
        "id": "vFU-xyoYJx6I"
      },
      "source": [
        "import numpy as np\n"
      ],
      "execution_count": null,
      "outputs": []
    },
    {
      "cell_type": "code",
      "metadata": {
        "colab": {
          "base_uri": "https://localhost:8080/"
        },
        "id": "vJk8VaLrNx04",
        "outputId": "acfa1fb5-428a-4b49-cbb8-a031ce2ff097"
      },
      "source": [
        "a=[1,2,3,4]\n",
        "arr1=np.array(a)\n",
        "print(a)\n",
        "print(type(arr1))"
      ],
      "execution_count": null,
      "outputs": [
        {
          "output_type": "stream",
          "text": [
            "[1, 2, 3, 4]\n",
            "<class 'numpy.ndarray'>\n"
          ],
          "name": "stdout"
        }
      ]
    },
    {
      "cell_type": "markdown",
      "metadata": {
        "id": "0rzn5PiZTOae"
      },
      "source": [
        "**Showing why numpy is better than list**"
      ]
    },
    {
      "cell_type": "code",
      "metadata": {
        "colab": {
          "base_uri": "https://localhost:8080/"
        },
        "id": "6tIJ4A7IN8KQ",
        "outputId": "32d8744b-9c68-4fbb-dac0-5d514fa1aab5"
      },
      "source": [
        "import sys\n",
        "s=range(1000)\n",
        "print(\"size of each byte\",sys.getsizeof(s))\n",
        "print(\"size of full list\",sys.getsizeof(s)*len(s))"
      ],
      "execution_count": null,
      "outputs": [
        {
          "output_type": "stream",
          "text": [
            "size of each byte 48\n",
            "size of full list 48000\n"
          ],
          "name": "stdout"
        }
      ]
    },
    {
      "cell_type": "code",
      "metadata": {
        "colab": {
          "base_uri": "https://localhost:8080/"
        },
        "id": "9Mvap98LOtPz",
        "outputId": "3cb7d89d-d24b-4ab6-931d-a9513586c942"
      },
      "source": [
        "#doing same thing in numpy\n",
        "import numpy as np\n",
        "x=np.arange(1000)\n",
        "print(\"Size of each element\",x.itemsize)\n",
        "print(\"Size of whole list\",x.size * x.itemsize)\n"
      ],
      "execution_count": null,
      "outputs": [
        {
          "output_type": "stream",
          "text": [
            "Size of each element 8\n",
            "Size of whole list 8000\n"
          ],
          "name": "stdout"
        }
      ]
    },
    {
      "cell_type": "code",
      "metadata": {
        "colab": {
          "base_uri": "https://localhost:8080/"
        },
        "id": "TRgdzOI8Pcdp",
        "outputId": "1dca9e31-91a0-47c7-f3c4-cd0115651597"
      },
      "source": [
        "import time\n",
        "a=range(1000)\n",
        "b=range(1000)\n",
        "start= time.time()\n",
        "#string comprehension\n",
        "ab=[a*b for a,b in zip(a,b)]\n",
        "end=time.time()\n",
        "print(\"total time: \",end-start)"
      ],
      "execution_count": null,
      "outputs": [
        {
          "output_type": "stream",
          "text": [
            "total time:  0.0001583099365234375\n"
          ],
          "name": "stdout"
        }
      ]
    },
    {
      "cell_type": "code",
      "metadata": {
        "colab": {
          "base_uri": "https://localhost:8080/"
        },
        "id": "7o_R9sEgRCQ1",
        "outputId": "174a6dd0-5027-4853-a84c-c814c093b5d9"
      },
      "source": [
        "import time\n",
        "import numpy as np\n",
        "arr1=np.arange(1000)\n",
        "arr2=np.arange(1000)\n",
        "start= time.time()\n",
        "m=arr1 *arr2\n",
        "end=time.time()\n",
        "print(\"total time: \",end-start)"
      ],
      "execution_count": null,
      "outputs": [
        {
          "output_type": "stream",
          "text": [
            "total time:  7.581710815429688e-05\n"
          ],
          "name": "stdout"
        }
      ]
    },
    {
      "cell_type": "code",
      "metadata": {
        "colab": {
          "base_uri": "https://localhost:8080/"
        },
        "id": "aouOsKbqTBNb",
        "outputId": "a122f047-2f58-4537-dfb2-602eb29eb8fc"
      },
      "source": [
        "arr1=np.array([[1,2,3,4],[5,6,7,8]],ndmin=2)\n",
        "print(arr1)"
      ],
      "execution_count": null,
      "outputs": [
        {
          "output_type": "stream",
          "text": [
            "[[1 2 3 4]\n",
            " [5 6 7 8]]\n"
          ],
          "name": "stdout"
        }
      ]
    },
    {
      "cell_type": "code",
      "metadata": {
        "id": "KEIdr2MFVjOa",
        "colab": {
          "base_uri": "https://localhost:8080/"
        },
        "outputId": "2cb69307-2406-48d8-8bb7-9972b97d4345"
      },
      "source": [
        "import numpy as np\n",
        "arr1=np.zeros((2,2))\n",
        "print(arr1)"
      ],
      "execution_count": 2,
      "outputs": [
        {
          "output_type": "stream",
          "text": [
            "[[0. 0.]\n",
            " [0. 0.]]\n"
          ],
          "name": "stdout"
        }
      ]
    },
    {
      "cell_type": "code",
      "metadata": {
        "id": "ukId2MxLFAj-"
      },
      "source": [
        "#creating n dim array"
      ],
      "execution_count": 3,
      "outputs": []
    },
    {
      "cell_type": "code",
      "metadata": {
        "colab": {
          "base_uri": "https://localhost:8080/"
        },
        "id": "eSTuUMzMGbAM",
        "outputId": "80e5c817-0fb9-4e0d-e8e9-e9dd9c6fde9c"
      },
      "source": [
        "a=[[1,2,3],[4,5,6]]\n",
        "np.array(a,ndmin=2)"
      ],
      "execution_count": 6,
      "outputs": [
        {
          "output_type": "execute_result",
          "data": {
            "text/plain": [
              "array([[1, 2, 3],\n",
              "       [4, 5, 6]])"
            ]
          },
          "metadata": {
            "tags": []
          },
          "execution_count": 6
        }
      ]
    },
    {
      "cell_type": "code",
      "metadata": {
        "colab": {
          "base_uri": "https://localhost:8080/"
        },
        "id": "Vib5LhS9GohW",
        "outputId": "bd5569e3-4d25-41f9-a42d-148b3719cf1b"
      },
      "source": [
        "np.random.rand(3,2)"
      ],
      "execution_count": 7,
      "outputs": [
        {
          "output_type": "execute_result",
          "data": {
            "text/plain": [
              "array([[0.56995343, 0.10395693],\n",
              "       [0.6445781 , 0.43585846],\n",
              "       [0.94650253, 0.92203965]])"
            ]
          },
          "metadata": {
            "tags": []
          },
          "execution_count": 7
        }
      ]
    },
    {
      "cell_type": "code",
      "metadata": {
        "colab": {
          "base_uri": "https://localhost:8080/"
        },
        "id": "IFhg1MKVH3y9",
        "outputId": "2dbc5883-bc16-4924-f1a1-2c1cf53255e8"
      },
      "source": [
        "np.ones((2,2))"
      ],
      "execution_count": 9,
      "outputs": [
        {
          "output_type": "execute_result",
          "data": {
            "text/plain": [
              "array([[1., 1.],\n",
              "       [1., 1.]])"
            ]
          },
          "metadata": {
            "tags": []
          },
          "execution_count": 9
        }
      ]
    },
    {
      "cell_type": "code",
      "metadata": {
        "colab": {
          "base_uri": "https://localhost:8080/"
        },
        "id": "eSgabvXVICIy",
        "outputId": "ca4f9552-61c4-4e65-97f9-801f68e2ae4d"
      },
      "source": [
        "arr1=np.random.rand(3,2)\n",
        "arr2=np.random.rand(3,2)\n",
        "sum1=np.add(arr1,arr2)\n",
        "sub1=np.subtract(arr1,arr2)\n",
        "print(arr1)\n",
        "print(arr2)\n",
        "print(sum1)\n",
        "print(sub1)"
      ],
      "execution_count": 14,
      "outputs": [
        {
          "output_type": "stream",
          "text": [
            "[[0.04559147 0.43986746]\n",
            " [0.9599082  0.90470988]\n",
            " [0.60790558 0.81885654]]\n",
            "[[0.03296531 0.34539524]\n",
            " [0.24303341 0.28822416]\n",
            " [0.36406288 0.31831639]]\n",
            "[[0.07855678 0.78526269]\n",
            " [1.20294161 1.19293404]\n",
            " [0.97196846 1.13717293]]\n",
            "[[0.01262616 0.09447222]\n",
            " [0.71687479 0.61648573]\n",
            " [0.2438427  0.50054016]]\n"
          ],
          "name": "stdout"
        }
      ]
    },
    {
      "cell_type": "markdown",
      "metadata": {
        "id": "uNA9XkRsKABT"
      },
      "source": [
        "#indexing and slicing"
      ]
    },
    {
      "cell_type": "code",
      "metadata": {
        "id": "kswlCIuwIZFB"
      },
      "source": [
        "a=[1,2,3,\"ravi\"]"
      ],
      "execution_count": 20,
      "outputs": []
    },
    {
      "cell_type": "code",
      "metadata": {
        "colab": {
          "base_uri": "https://localhost:8080/",
          "height": 35
        },
        "id": "HgoxYiwkJCC8",
        "outputId": "1a481cd2-1650-4a70-c9ce-fc8767ede49b"
      },
      "source": [
        "a[-1]"
      ],
      "execution_count": 21,
      "outputs": [
        {
          "output_type": "execute_result",
          "data": {
            "application/vnd.google.colaboratory.intrinsic+json": {
              "type": "string"
            },
            "text/plain": [
              "'ravi'"
            ]
          },
          "metadata": {
            "tags": []
          },
          "execution_count": 21
        }
      ]
    },
    {
      "cell_type": "code",
      "metadata": {
        "colab": {
          "base_uri": "https://localhost:8080/"
        },
        "id": "GOEaNpoNJ11F",
        "outputId": "1f242924-a279-4ba7-bd0a-6598099b0877"
      },
      "source": [
        "a[:-1]"
      ],
      "execution_count": 22,
      "outputs": [
        {
          "output_type": "execute_result",
          "data": {
            "text/plain": [
              "[1, 2, 3]"
            ]
          },
          "metadata": {
            "tags": []
          },
          "execution_count": 22
        }
      ]
    },
    {
      "cell_type": "code",
      "metadata": {
        "colab": {
          "base_uri": "https://localhost:8080/"
        },
        "id": "E7-JbQLqJ409",
        "outputId": "67c0cf38-d18b-408d-87c7-7e9b0168c38b"
      },
      "source": [
        "a[-3:-1]"
      ],
      "execution_count": 23,
      "outputs": [
        {
          "output_type": "execute_result",
          "data": {
            "text/plain": [
              "[2, 3]"
            ]
          },
          "metadata": {
            "tags": []
          },
          "execution_count": 23
        }
      ]
    },
    {
      "cell_type": "code",
      "metadata": {
        "colab": {
          "base_uri": "https://localhost:8080/"
        },
        "id": "NibeuBKsKGvZ",
        "outputId": "790b25d8-4e7e-4941-9b04-a24aea0d39b0"
      },
      "source": [
        "a[0::2] #skipped the value by one"
      ],
      "execution_count": 24,
      "outputs": [
        {
          "output_type": "execute_result",
          "data": {
            "text/plain": [
              "[1, 3]"
            ]
          },
          "metadata": {
            "tags": []
          },
          "execution_count": 24
        }
      ]
    },
    {
      "cell_type": "code",
      "metadata": {
        "colab": {
          "base_uri": "https://localhost:8080/"
        },
        "id": "ft2xMs-xKlHn",
        "outputId": "ec749d2f-c2f6-452b-965c-ea5c252667fc"
      },
      "source": [
        "arr1=np.array([[1,2,3],[4,5,6]])\n",
        "arr1\n",
        "arr2=arr1\n",
        "arr2.reshape(1,6)\n",
        "arr2"
      ],
      "execution_count": 28,
      "outputs": [
        {
          "output_type": "execute_result",
          "data": {
            "text/plain": [
              "array([[1, 2, 3],\n",
              "       [4, 5, 6]])"
            ]
          },
          "metadata": {
            "tags": []
          },
          "execution_count": 28
        }
      ]
    },
    {
      "cell_type": "code",
      "metadata": {
        "id": "Kq31xVLwLsGB"
      },
      "source": [
        ""
      ],
      "execution_count": null,
      "outputs": []
    },
    {
      "cell_type": "code",
      "metadata": {
        "id": "yCOl6WhjMDyZ"
      },
      "source": [
        ""
      ],
      "execution_count": null,
      "outputs": []
    }
  ]
}